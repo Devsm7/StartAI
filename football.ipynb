{
 "cells": [
  {
   "cell_type": "code",
   "execution_count": 4,
   "metadata": {},
   "outputs": [
    {
     "name": "stdout",
     "output_type": "stream",
     "text": [
      "Collecting SoccerNet\n",
      "  Using cached SoccerNet-0.1.62-py3-none-any.whl.metadata (13 kB)\n",
      "Requirement already satisfied: tqdm in c:\\users\\user\\desktop\\strataiproject\\.venv\\lib\\site-packages (from SoccerNet) (4.67.1)\n",
      "Collecting scikit-video (from SoccerNet)\n",
      "  Using cached scikit_video-1.1.11-py2.py3-none-any.whl.metadata (1.1 kB)\n",
      "Requirement already satisfied: matplotlib in c:\\users\\user\\desktop\\strataiproject\\.venv\\lib\\site-packages (from SoccerNet) (3.10.1)\n",
      "Collecting google-measurement-protocol (from SoccerNet)\n",
      "  Using cached google_measurement_protocol-1.1.0-py2.py3-none-any.whl.metadata (845 bytes)\n",
      "Collecting pycocoevalcap (from SoccerNet)\n",
      "  Using cached pycocoevalcap-1.2-py3-none-any.whl.metadata (3.2 kB)\n",
      "Collecting huggingface_hub[cli] (from SoccerNet)\n",
      "  Using cached huggingface_hub-0.29.3-py3-none-any.whl.metadata (13 kB)\n",
      "Collecting boto3 (from SoccerNet)\n",
      "  Using cached boto3-1.37.13-py3-none-any.whl.metadata (6.7 kB)\n",
      "Collecting botocore<1.38.0,>=1.37.13 (from boto3->SoccerNet)\n",
      "  Using cached botocore-1.37.13-py3-none-any.whl.metadata (5.7 kB)\n",
      "Collecting jmespath<2.0.0,>=0.7.1 (from boto3->SoccerNet)\n",
      "  Using cached jmespath-1.0.1-py3-none-any.whl.metadata (7.6 kB)\n",
      "Collecting s3transfer<0.12.0,>=0.11.0 (from boto3->SoccerNet)\n",
      "  Using cached s3transfer-0.11.4-py3-none-any.whl.metadata (1.7 kB)\n",
      "Collecting requests<3.0a0,>=2.0 (from google-measurement-protocol->SoccerNet)\n",
      "  Using cached requests-2.32.3-py3-none-any.whl.metadata (4.6 kB)\n",
      "Collecting prices>=1.0.0 (from google-measurement-protocol->SoccerNet)\n",
      "  Using cached prices-1.1.1-py3-none-any.whl.metadata (2.8 kB)\n",
      "Collecting filelock (from huggingface_hub[cli]->SoccerNet)\n",
      "  Using cached filelock-3.18.0-py3-none-any.whl.metadata (2.9 kB)\n",
      "Collecting fsspec>=2023.5.0 (from huggingface_hub[cli]->SoccerNet)\n",
      "  Using cached fsspec-2025.3.0-py3-none-any.whl.metadata (11 kB)\n",
      "Requirement already satisfied: packaging>=20.9 in c:\\users\\user\\desktop\\strataiproject\\.venv\\lib\\site-packages (from huggingface_hub[cli]->SoccerNet) (24.2)\n",
      "Collecting pyyaml>=5.1 (from huggingface_hub[cli]->SoccerNet)\n",
      "  Using cached PyYAML-6.0.2-cp313-cp313-win_amd64.whl.metadata (2.1 kB)\n",
      "Collecting typing-extensions>=3.7.4.3 (from huggingface_hub[cli]->SoccerNet)\n",
      "  Using cached typing_extensions-4.12.2-py3-none-any.whl.metadata (3.0 kB)\n",
      "Collecting InquirerPy==0.3.4 (from huggingface_hub[cli]->SoccerNet)\n",
      "  Using cached InquirerPy-0.3.4-py3-none-any.whl.metadata (8.1 kB)\n",
      "Collecting pfzy<0.4.0,>=0.3.1 (from InquirerPy==0.3.4->huggingface_hub[cli]->SoccerNet)\n",
      "  Using cached pfzy-0.3.4-py3-none-any.whl.metadata (4.9 kB)\n",
      "Requirement already satisfied: prompt-toolkit<4.0.0,>=3.0.1 in c:\\users\\user\\desktop\\strataiproject\\.venv\\lib\\site-packages (from InquirerPy==0.3.4->huggingface_hub[cli]->SoccerNet) (3.0.50)\n",
      "Requirement already satisfied: colorama in c:\\users\\user\\desktop\\strataiproject\\.venv\\lib\\site-packages (from tqdm->SoccerNet) (0.4.6)\n",
      "Requirement already satisfied: contourpy>=1.0.1 in c:\\users\\user\\desktop\\strataiproject\\.venv\\lib\\site-packages (from matplotlib->SoccerNet) (1.3.1)\n",
      "Requirement already satisfied: cycler>=0.10 in c:\\users\\user\\desktop\\strataiproject\\.venv\\lib\\site-packages (from matplotlib->SoccerNet) (0.12.1)\n",
      "Requirement already satisfied: fonttools>=4.22.0 in c:\\users\\user\\desktop\\strataiproject\\.venv\\lib\\site-packages (from matplotlib->SoccerNet) (4.56.0)\n",
      "Requirement already satisfied: kiwisolver>=1.3.1 in c:\\users\\user\\desktop\\strataiproject\\.venv\\lib\\site-packages (from matplotlib->SoccerNet) (1.4.8)\n",
      "Requirement already satisfied: numpy>=1.23 in c:\\users\\user\\desktop\\strataiproject\\.venv\\lib\\site-packages (from matplotlib->SoccerNet) (2.2.3)\n",
      "Requirement already satisfied: pillow>=8 in c:\\users\\user\\desktop\\strataiproject\\.venv\\lib\\site-packages (from matplotlib->SoccerNet) (11.1.0)\n",
      "Requirement already satisfied: pyparsing>=2.3.1 in c:\\users\\user\\desktop\\strataiproject\\.venv\\lib\\site-packages (from matplotlib->SoccerNet) (3.2.1)\n",
      "Requirement already satisfied: python-dateutil>=2.7 in c:\\users\\user\\desktop\\strataiproject\\.venv\\lib\\site-packages (from matplotlib->SoccerNet) (2.9.0.post0)\n",
      "Collecting pycocotools>=2.0.2 (from pycocoevalcap->SoccerNet)\n",
      "  Using cached pycocotools-2.0.8.tar.gz (24 kB)\n",
      "  Installing build dependencies: started\n",
      "  Installing build dependencies: finished with status 'done'\n",
      "  Getting requirements to build wheel: started\n",
      "  Getting requirements to build wheel: finished with status 'done'\n",
      "  Preparing metadata (pyproject.toml): started\n",
      "  Preparing metadata (pyproject.toml): finished with status 'done'\n",
      "Collecting scipy (from scikit-video->SoccerNet)\n",
      "  Using cached scipy-1.15.2-cp313-cp313-win_amd64.whl.metadata (60 kB)\n",
      "Collecting urllib3!=2.2.0,<3,>=1.25.4 (from botocore<1.38.0,>=1.37.13->boto3->SoccerNet)\n",
      "  Using cached urllib3-2.3.0-py3-none-any.whl.metadata (6.5 kB)\n",
      "Collecting babel>=2.5.0 (from prices>=1.0.0->google-measurement-protocol->SoccerNet)\n",
      "  Using cached babel-2.17.0-py3-none-any.whl.metadata (2.0 kB)\n",
      "Requirement already satisfied: six>=1.5 in c:\\users\\user\\desktop\\strataiproject\\.venv\\lib\\site-packages (from python-dateutil>=2.7->matplotlib->SoccerNet) (1.17.0)\n",
      "Collecting charset-normalizer<4,>=2 (from requests<3.0a0,>=2.0->google-measurement-protocol->SoccerNet)\n",
      "  Using cached charset_normalizer-3.4.1-cp313-cp313-win_amd64.whl.metadata (36 kB)\n",
      "Collecting idna<4,>=2.5 (from requests<3.0a0,>=2.0->google-measurement-protocol->SoccerNet)\n",
      "  Using cached idna-3.10-py3-none-any.whl.metadata (10 kB)\n",
      "Collecting certifi>=2017.4.17 (from requests<3.0a0,>=2.0->google-measurement-protocol->SoccerNet)\n",
      "  Using cached certifi-2025.1.31-py3-none-any.whl.metadata (2.5 kB)\n",
      "Requirement already satisfied: wcwidth in c:\\users\\user\\desktop\\strataiproject\\.venv\\lib\\site-packages (from prompt-toolkit<4.0.0,>=3.0.1->InquirerPy==0.3.4->huggingface_hub[cli]->SoccerNet) (0.2.13)\n",
      "Using cached SoccerNet-0.1.62-py3-none-any.whl (86 kB)\n",
      "Using cached boto3-1.37.13-py3-none-any.whl (139 kB)\n",
      "Using cached google_measurement_protocol-1.1.0-py2.py3-none-any.whl (5.9 kB)\n",
      "Using cached InquirerPy-0.3.4-py3-none-any.whl (67 kB)\n",
      "Using cached pycocoevalcap-1.2-py3-none-any.whl (104.3 MB)\n",
      "Using cached scikit_video-1.1.11-py2.py3-none-any.whl (2.3 MB)\n",
      "Using cached botocore-1.37.13-py3-none-any.whl (13.4 MB)\n",
      "Using cached fsspec-2025.3.0-py3-none-any.whl (193 kB)\n",
      "Using cached jmespath-1.0.1-py3-none-any.whl (20 kB)\n",
      "Using cached prices-1.1.1-py3-none-any.whl (9.5 kB)\n",
      "Using cached PyYAML-6.0.2-cp313-cp313-win_amd64.whl (156 kB)\n",
      "Using cached requests-2.32.3-py3-none-any.whl (64 kB)\n",
      "Using cached s3transfer-0.11.4-py3-none-any.whl (84 kB)\n",
      "Using cached typing_extensions-4.12.2-py3-none-any.whl (37 kB)\n",
      "Using cached filelock-3.18.0-py3-none-any.whl (16 kB)\n",
      "Using cached huggingface_hub-0.29.3-py3-none-any.whl (468 kB)\n",
      "Using cached scipy-1.15.2-cp313-cp313-win_amd64.whl (41.0 MB)\n",
      "Using cached babel-2.17.0-py3-none-any.whl (10.2 MB)\n",
      "Using cached certifi-2025.1.31-py3-none-any.whl (166 kB)\n",
      "Using cached charset_normalizer-3.4.1-cp313-cp313-win_amd64.whl (102 kB)\n",
      "Using cached idna-3.10-py3-none-any.whl (70 kB)\n",
      "Using cached pfzy-0.3.4-py3-none-any.whl (8.5 kB)\n",
      "Using cached urllib3-2.3.0-py3-none-any.whl (128 kB)\n",
      "Building wheels for collected packages: pycocotools\n",
      "  Building wheel for pycocotools (pyproject.toml): started\n",
      "  Building wheel for pycocotools (pyproject.toml): finished with status 'error'\n",
      "Failed to build pycocotools\n",
      "Note: you may need to restart the kernel to use updated packages.\n"
     ]
    },
    {
     "name": "stderr",
     "output_type": "stream",
     "text": [
      "  error: subprocess-exited-with-error\n",
      "  \n",
      "  × Building wheel for pycocotools (pyproject.toml) did not run successfully.\n",
      "  │ exit code: 1\n",
      "  ╰─> [15 lines of output]\n",
      "      running bdist_wheel\n",
      "      running build\n",
      "      running build_py\n",
      "      creating build\\lib.win-amd64-cpython-313\\pycocotools\n",
      "      copying pycocotools\\coco.py -> build\\lib.win-amd64-cpython-313\\pycocotools\n",
      "      copying pycocotools\\cocoeval.py -> build\\lib.win-amd64-cpython-313\\pycocotools\n",
      "      copying pycocotools\\mask.py -> build\\lib.win-amd64-cpython-313\\pycocotools\n",
      "      copying pycocotools\\__init__.py -> build\\lib.win-amd64-cpython-313\\pycocotools\n",
      "      running build_ext\n",
      "      Compiling pycocotools/_mask.pyx because it changed.\n",
      "      [1/1] Cythonizing pycocotools/_mask.pyx\n",
      "      C:\\Users\\user\\AppData\\Local\\Temp\\pip-build-env-glgua1nb\\overlay\\Lib\\site-packages\\Cython\\Compiler\\Main.py:381: FutureWarning: Cython directive 'language_level' not set, using '3str' for now (Py3). This has changed from earlier releases! File: C:\\Users\\user\\AppData\\Local\\Temp\\pip-install-6nggmply\\pycocotools_35ba50d4a1a649ff86cc2885ea96fc4a\\pycocotools\\_mask.pyx\n",
      "        tree = Parsing.p_module(s, pxd, full_module_name)\n",
      "      building 'pycocotools._mask' extension\n",
      "      error: Microsoft Visual C++ 14.0 or greater is required. Get it with \"Microsoft C++ Build Tools\": https://visualstudio.microsoft.com/visual-cpp-build-tools/\n",
      "      [end of output]\n",
      "  \n",
      "  note: This error originates from a subprocess, and is likely not a problem with pip.\n",
      "  ERROR: Failed building wheel for pycocotools\n",
      "ERROR: Failed to build installable wheels for some pyproject.toml based projects (pycocotools)\n"
     ]
    },
    {
     "name": "stdout",
     "output_type": "stream",
     "text": [
      "Note: you may need to restart the kernel to use updated packages.\n"
     ]
    },
    {
     "name": "stderr",
     "output_type": "stream",
     "text": [
      "ERROR: https://github.com/SoccerNet/SoccerNet is not a valid editable requirement. It should either be a path to a local project or a VCS URL (beginning with bzr+http, bzr+https, bzr+ssh, bzr+sftp, bzr+ftp, bzr+lp, bzr+file, git+http, git+https, git+ssh, git+git, git+file, hg+file, hg+http, hg+https, hg+ssh, hg+static-http, svn+ssh, svn+http, svn+https, svn+svn, svn+file).\n"
     ]
    },
    {
     "name": "stdout",
     "output_type": "stream",
     "text": [
      "Note: you may need to restart the kernel to use updated packages.\n"
     ]
    },
    {
     "name": "stderr",
     "output_type": "stream",
     "text": [
      "\n",
      "Usage:   \n",
      "  c:\\Users\\user\\Desktop\\StratAIProject\\.venv\\Scripts\\python.exe -m pip install [options] <requirement specifier> [package-index-options] ...\n",
      "  c:\\Users\\user\\Desktop\\StratAIProject\\.venv\\Scripts\\python.exe -m pip install [options] -r <requirements file> [package-index-options] ...\n",
      "  c:\\Users\\user\\Desktop\\StratAIProject\\.venv\\Scripts\\python.exe -m pip install [options] [-e] <vcs project url> ...\n",
      "  c:\\Users\\user\\Desktop\\StratAIProject\\.venv\\Scripts\\python.exe -m pip install [options] [-e] <local project path> ...\n",
      "  c:\\Users\\user\\Desktop\\StratAIProject\\.venv\\Scripts\\python.exe -m pip install [options] <archive url/path> ...\n",
      "\n",
      "-e option requires 1 argument\n"
     ]
    }
   ],
   "source": [
    "\n",
    "%pip install SoccerNet\n",
    "%pip install -e https://github.com/SoccerNet/SoccerNet\n",
    "%pip install -e"
   ]
  },
  {
   "cell_type": "code",
   "execution_count": 2,
   "metadata": {},
   "outputs": [
    {
     "ename": "ModuleNotFoundError",
     "evalue": "No module named 'SoccerNet'",
     "output_type": "error",
     "traceback": [
      "\u001b[31m---------------------------------------------------------------------------\u001b[39m",
      "\u001b[31mModuleNotFoundError\u001b[39m                       Traceback (most recent call last)",
      "\u001b[36mCell\u001b[39m\u001b[36m \u001b[39m\u001b[32mIn[2]\u001b[39m\u001b[32m, line 1\u001b[39m\n\u001b[32m----> \u001b[39m\u001b[32m1\u001b[39m \u001b[38;5;28;01mimport\u001b[39;00m\u001b[38;5;250m \u001b[39m\u001b[34;01mSoccerNet\u001b[39;00m\n\u001b[32m      2\u001b[39m \u001b[38;5;28;01mfrom\u001b[39;00m\u001b[38;5;250m \u001b[39m\u001b[34;01mSoccerNet\u001b[39;00m\u001b[34;01m.\u001b[39;00m\u001b[34;01mDownloader\u001b[39;00m\u001b[38;5;250m \u001b[39m\u001b[38;5;28;01mimport\u001b[39;00m SoccerNetDownloader\n\u001b[32m      3\u001b[39m mySoccerNetDownloader=SoccerNetDownloader(LocalDirectory=\u001b[33m\"\u001b[39m\u001b[33mpath/to/SoccerNet\u001b[39m\u001b[33m\"\u001b[39m)\n",
      "\u001b[31mModuleNotFoundError\u001b[39m: No module named 'SoccerNet'"
     ]
    }
   ],
   "source": [
    "import SoccerNet\n",
    "from SoccerNet.Downloader import SoccerNetDownloader\n",
    "mySoccerNetDownloader=SoccerNetDownloader(LocalDirectory=\"path/to/SoccerNet\")"
   ]
  }
 ],
 "metadata": {
  "kernelspec": {
   "display_name": ".venv",
   "language": "python",
   "name": "python3"
  },
  "language_info": {
   "codemirror_mode": {
    "name": "ipython",
    "version": 3
   },
   "file_extension": ".py",
   "mimetype": "text/x-python",
   "name": "python",
   "nbconvert_exporter": "python",
   "pygments_lexer": "ipython3",
   "version": "3.13.0"
  }
 },
 "nbformat": 4,
 "nbformat_minor": 2
}
